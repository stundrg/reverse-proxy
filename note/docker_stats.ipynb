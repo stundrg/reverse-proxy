{
 "cells": [
  {
   "cell_type": "code",
   "execution_count": 4,
   "id": "0c388b08-6c8f-4b05-a60c-583230dbc2db",
   "metadata": {},
   "outputs": [],
   "source": [
    "import pandas as pd"
   ]
  },
  {
   "cell_type": "code",
   "execution_count": 6,
   "id": "c22a2e37-507f-4386-b1fd-1b0194503c9c",
   "metadata": {},
   "outputs": [],
   "source": [
    "df = pd.read_csv(\"docker_stats.csv\")\n",
    "df['Timestamp'] = pd.to_datetime(df['Timestamp'],unit='s')"
   ]
  },
  {
   "cell_type": "code",
   "execution_count": 7,
   "id": "e4e365d6-4a73-4071-9fb0-eeddf5fd91be",
   "metadata": {},
   "outputs": [
    {
     "data": {
      "text/html": [
       "<div>\n",
       "<style scoped>\n",
       "    .dataframe tbody tr th:only-of-type {\n",
       "        vertical-align: middle;\n",
       "    }\n",
       "\n",
       "    .dataframe tbody tr th {\n",
       "        vertical-align: top;\n",
       "    }\n",
       "\n",
       "    .dataframe thead th {\n",
       "        text-align: right;\n",
       "    }\n",
       "</style>\n",
       "<table border=\"1\" class=\"dataframe\">\n",
       "  <thead>\n",
       "    <tr style=\"text-align: right;\">\n",
       "      <th></th>\n",
       "      <th>Timestamp</th>\n",
       "      <th>Container</th>\n",
       "      <th>Name</th>\n",
       "      <th>ID</th>\n",
       "      <th>CPUPerc</th>\n",
       "      <th>MemUsage</th>\n",
       "      <th>MemPerc</th>\n",
       "      <th>NetIO</th>\n",
       "      <th>BlockIO</th>\n",
       "      <th>PIDs</th>\n",
       "    </tr>\n",
       "  </thead>\n",
       "  <tbody>\n",
       "    <tr>\n",
       "      <th>0</th>\n",
       "      <td>2025-02-27 02:19:51</td>\n",
       "      <td>e977bd903415</td>\n",
       "      <td>reverse-proxy-cache-1</td>\n",
       "      <td>e977bd903415</td>\n",
       "      <td>0.00%</td>\n",
       "      <td>13.79MiB / 20MiB</td>\n",
       "      <td>68.95%</td>\n",
       "      <td>1.24kB / 0B</td>\n",
       "      <td>0B / 0B</td>\n",
       "      <td>18</td>\n",
       "    </tr>\n",
       "    <tr>\n",
       "      <th>1</th>\n",
       "      <td>2025-02-27 02:19:51</td>\n",
       "      <td>cb6e8322cd01</td>\n",
       "      <td>reverse-proxy-agent-1</td>\n",
       "      <td>cb6e8322cd01</td>\n",
       "      <td>0.17%</td>\n",
       "      <td>117.5MiB / 15.48GiB</td>\n",
       "      <td>0.74%</td>\n",
       "      <td>82.6MB / 618kB</td>\n",
       "      <td>0B / 0B</td>\n",
       "      <td>32</td>\n",
       "    </tr>\n",
       "    <tr>\n",
       "      <th>2</th>\n",
       "      <td>2025-02-27 02:19:51</td>\n",
       "      <td>979a25dbe352</td>\n",
       "      <td>reverse-proxy-lb-1</td>\n",
       "      <td>979a25dbe352</td>\n",
       "      <td>0.09%</td>\n",
       "      <td>88.51MiB / 15.48GiB</td>\n",
       "      <td>0.56%</td>\n",
       "      <td>1.39kB / 0B</td>\n",
       "      <td>0B / 0B</td>\n",
       "      <td>38</td>\n",
       "    </tr>\n",
       "    <tr>\n",
       "      <th>3</th>\n",
       "      <td>2025-02-27 02:19:51</td>\n",
       "      <td>6b7bca08f45e</td>\n",
       "      <td>reverse-proxy-controller-1</td>\n",
       "      <td>6b7bca08f45e</td>\n",
       "      <td>0.57%</td>\n",
       "      <td>579.1MiB / 15.48GiB</td>\n",
       "      <td>3.65%</td>\n",
       "      <td>620kB / 82.6MB</td>\n",
       "      <td>0B / 0B</td>\n",
       "      <td>224</td>\n",
       "    </tr>\n",
       "    <tr>\n",
       "      <th>4</th>\n",
       "      <td>2025-02-27 02:19:51</td>\n",
       "      <td>71381e59d52a</td>\n",
       "      <td>reverse-proxy-api-1</td>\n",
       "      <td>71381e59d52a</td>\n",
       "      <td>0.07%</td>\n",
       "      <td>43.01MiB / 500MiB</td>\n",
       "      <td>8.60%</td>\n",
       "      <td>1.59kB / 0B</td>\n",
       "      <td>0B / 0B</td>\n",
       "      <td>5</td>\n",
       "    </tr>\n",
       "    <tr>\n",
       "      <th>...</th>\n",
       "      <td>...</td>\n",
       "      <td>...</td>\n",
       "      <td>...</td>\n",
       "      <td>...</td>\n",
       "      <td>...</td>\n",
       "      <td>...</td>\n",
       "      <td>...</td>\n",
       "      <td>...</td>\n",
       "      <td>...</td>\n",
       "      <td>...</td>\n",
       "    </tr>\n",
       "    <tr>\n",
       "      <th>80</th>\n",
       "      <td>2025-02-27 02:23:10</td>\n",
       "      <td>e977bd903415</td>\n",
       "      <td>reverse-proxy-cache-1</td>\n",
       "      <td>e977bd903415</td>\n",
       "      <td>0.00%</td>\n",
       "      <td>13.79MiB / 20MiB</td>\n",
       "      <td>68.95%</td>\n",
       "      <td>1.31kB / 0B</td>\n",
       "      <td>0B / 0B</td>\n",
       "      <td>18</td>\n",
       "    </tr>\n",
       "    <tr>\n",
       "      <th>81</th>\n",
       "      <td>2025-02-27 02:23:10</td>\n",
       "      <td>cb6e8322cd01</td>\n",
       "      <td>reverse-proxy-agent-1</td>\n",
       "      <td>cb6e8322cd01</td>\n",
       "      <td>0.09%</td>\n",
       "      <td>178.2MiB / 15.48GiB</td>\n",
       "      <td>1.12%</td>\n",
       "      <td>82.7MB / 784kB</td>\n",
       "      <td>0B / 0B</td>\n",
       "      <td>32</td>\n",
       "    </tr>\n",
       "    <tr>\n",
       "      <th>82</th>\n",
       "      <td>2025-02-27 02:23:10</td>\n",
       "      <td>979a25dbe352</td>\n",
       "      <td>reverse-proxy-lb-1</td>\n",
       "      <td>979a25dbe352</td>\n",
       "      <td>0.07%</td>\n",
       "      <td>88.68MiB / 15.48GiB</td>\n",
       "      <td>0.56%</td>\n",
       "      <td>1.46kB / 0B</td>\n",
       "      <td>0B / 0B</td>\n",
       "      <td>38</td>\n",
       "    </tr>\n",
       "    <tr>\n",
       "      <th>83</th>\n",
       "      <td>2025-02-27 02:23:10</td>\n",
       "      <td>6b7bca08f45e</td>\n",
       "      <td>reverse-proxy-controller-1</td>\n",
       "      <td>6b7bca08f45e</td>\n",
       "      <td>0.68%</td>\n",
       "      <td>594.2MiB / 15.48GiB</td>\n",
       "      <td>3.75%</td>\n",
       "      <td>786kB / 82.7MB</td>\n",
       "      <td>0B / 0B</td>\n",
       "      <td>224</td>\n",
       "    </tr>\n",
       "    <tr>\n",
       "      <th>84</th>\n",
       "      <td>2025-02-27 02:23:10</td>\n",
       "      <td>71381e59d52a</td>\n",
       "      <td>reverse-proxy-api-1</td>\n",
       "      <td>71381e59d52a</td>\n",
       "      <td>0.07%</td>\n",
       "      <td>43.01MiB / 500MiB</td>\n",
       "      <td>8.60%</td>\n",
       "      <td>1.66kB / 0B</td>\n",
       "      <td>0B / 0B</td>\n",
       "      <td>5</td>\n",
       "    </tr>\n",
       "  </tbody>\n",
       "</table>\n",
       "<p>85 rows × 10 columns</p>\n",
       "</div>"
      ],
      "text/plain": [
       "             Timestamp     Container                        Name  \\\n",
       "0  2025-02-27 02:19:51  e977bd903415       reverse-proxy-cache-1   \n",
       "1  2025-02-27 02:19:51  cb6e8322cd01       reverse-proxy-agent-1   \n",
       "2  2025-02-27 02:19:51  979a25dbe352          reverse-proxy-lb-1   \n",
       "3  2025-02-27 02:19:51  6b7bca08f45e  reverse-proxy-controller-1   \n",
       "4  2025-02-27 02:19:51  71381e59d52a         reverse-proxy-api-1   \n",
       "..                 ...           ...                         ...   \n",
       "80 2025-02-27 02:23:10  e977bd903415       reverse-proxy-cache-1   \n",
       "81 2025-02-27 02:23:10  cb6e8322cd01       reverse-proxy-agent-1   \n",
       "82 2025-02-27 02:23:10  979a25dbe352          reverse-proxy-lb-1   \n",
       "83 2025-02-27 02:23:10  6b7bca08f45e  reverse-proxy-controller-1   \n",
       "84 2025-02-27 02:23:10  71381e59d52a         reverse-proxy-api-1   \n",
       "\n",
       "              ID CPUPerc             MemUsage MemPerc           NetIO  \\\n",
       "0   e977bd903415   0.00%     13.79MiB / 20MiB  68.95%     1.24kB / 0B   \n",
       "1   cb6e8322cd01   0.17%  117.5MiB / 15.48GiB   0.74%  82.6MB / 618kB   \n",
       "2   979a25dbe352   0.09%  88.51MiB / 15.48GiB   0.56%     1.39kB / 0B   \n",
       "3   6b7bca08f45e   0.57%  579.1MiB / 15.48GiB   3.65%  620kB / 82.6MB   \n",
       "4   71381e59d52a   0.07%    43.01MiB / 500MiB   8.60%     1.59kB / 0B   \n",
       "..           ...     ...                  ...     ...             ...   \n",
       "80  e977bd903415   0.00%     13.79MiB / 20MiB  68.95%     1.31kB / 0B   \n",
       "81  cb6e8322cd01   0.09%  178.2MiB / 15.48GiB   1.12%  82.7MB / 784kB   \n",
       "82  979a25dbe352   0.07%  88.68MiB / 15.48GiB   0.56%     1.46kB / 0B   \n",
       "83  6b7bca08f45e   0.68%  594.2MiB / 15.48GiB   3.75%  786kB / 82.7MB   \n",
       "84  71381e59d52a   0.07%    43.01MiB / 500MiB   8.60%     1.66kB / 0B   \n",
       "\n",
       "    BlockIO  PIDs  \n",
       "0   0B / 0B    18  \n",
       "1   0B / 0B    32  \n",
       "2   0B / 0B    38  \n",
       "3   0B / 0B   224  \n",
       "4   0B / 0B     5  \n",
       "..      ...   ...  \n",
       "80  0B / 0B    18  \n",
       "81  0B / 0B    32  \n",
       "82  0B / 0B    38  \n",
       "83  0B / 0B   224  \n",
       "84  0B / 0B     5  \n",
       "\n",
       "[85 rows x 10 columns]"
      ]
     },
     "execution_count": 7,
     "metadata": {},
     "output_type": "execute_result"
    }
   ],
   "source": [
    "df"
   ]
  },
  {
   "cell_type": "code",
   "execution_count": 8,
   "id": "77a45ae3-4c1d-4742-8628-e8562070a56f",
   "metadata": {},
   "outputs": [],
   "source": [
    "a = [1,2,3,4]"
   ]
  },
  {
   "cell_type": "code",
   "execution_count": 9,
   "id": "b267fc0c-6bd9-4d66-80f8-11fadf610ce6",
   "metadata": {},
   "outputs": [],
   "source": [
    "b = [\"A\",\"B\",\"C\"]"
   ]
  },
  {
   "cell_type": "code",
   "execution_count": 10,
   "id": "fc527cf3-c3b5-480e-b438-b2eb4488f170",
   "metadata": {},
   "outputs": [],
   "source": [
    "c = a + b"
   ]
  },
  {
   "cell_type": "code",
   "execution_count": 11,
   "id": "38763288-4a91-4250-9fef-577822218c25",
   "metadata": {},
   "outputs": [
    {
     "data": {
      "text/plain": [
       "[1, 2, 3, 4, 'A', 'B', 'C']"
      ]
     },
     "execution_count": 11,
     "metadata": {},
     "output_type": "execute_result"
    }
   ],
   "source": [
    "c"
   ]
  },
  {
   "cell_type": "code",
   "execution_count": 13,
   "id": "7ade175e-1857-4be1-a5f3-508996c648e2",
   "metadata": {},
   "outputs": [],
   "source": [
    "c.append(3.14)"
   ]
  },
  {
   "cell_type": "code",
   "execution_count": 14,
   "id": "c03d1dce-a2dd-4fab-8005-d8874ef4c817",
   "metadata": {},
   "outputs": [],
   "source": [
    "c.insert(0,0.123)"
   ]
  },
  {
   "cell_type": "code",
   "execution_count": 15,
   "id": "c512088c-e7b6-4ef4-96cf-9cdd224586c3",
   "metadata": {},
   "outputs": [],
   "source": [
    "c.insert(4,3.333)"
   ]
  },
  {
   "cell_type": "code",
   "execution_count": 16,
   "id": "527deadc-d174-4aae-8480-13c65ce8409f",
   "metadata": {},
   "outputs": [],
   "source": [
    "c.remove(3)"
   ]
  },
  {
   "cell_type": "code",
   "execution_count": 17,
   "id": "f73f1b6a-8ffd-432d-9a64-71f8a37f8112",
   "metadata": {},
   "outputs": [
    {
     "data": {
      "text/plain": [
       "[0.123, 1, 2, 3.333, 4, 'A', 'B', 'C', 3.14]"
      ]
     },
     "execution_count": 17,
     "metadata": {},
     "output_type": "execute_result"
    }
   ],
   "source": [
    "c"
   ]
  },
  {
   "cell_type": "code",
   "execution_count": 18,
   "id": "518c7201-8038-4413-836e-c984b22c0f8b",
   "metadata": {},
   "outputs": [
    {
     "ename": "TypeError",
     "evalue": "'<' not supported between instances of 'str' and 'int'",
     "output_type": "error",
     "traceback": [
      "\u001b[0;31m---------------------------------------------------------------------------\u001b[0m",
      "\u001b[0;31mTypeError\u001b[0m                                 Traceback (most recent call last)",
      "Cell \u001b[0;32mIn[18], line 1\u001b[0m\n\u001b[0;32m----> 1\u001b[0m \u001b[43mc\u001b[49m\u001b[38;5;241;43m.\u001b[39;49m\u001b[43msort\u001b[49m\u001b[43m(\u001b[49m\u001b[43m)\u001b[49m\n",
      "\u001b[0;31mTypeError\u001b[0m: '<' not supported between instances of 'str' and 'int'"
     ]
    }
   ],
   "source": [
    "c.sort()"
   ]
  },
  {
   "cell_type": "code",
   "execution_count": 19,
   "id": "863febaa-38ce-48c4-968f-fea5b6851745",
   "metadata": {},
   "outputs": [
    {
     "ename": "TypeError",
     "evalue": "'<' not supported between instances of 'str' and 'int'",
     "output_type": "error",
     "traceback": [
      "\u001b[0;31m---------------------------------------------------------------------------\u001b[0m",
      "\u001b[0;31mTypeError\u001b[0m                                 Traceback (most recent call last)",
      "Cell \u001b[0;32mIn[19], line 1\u001b[0m\n\u001b[0;32m----> 1\u001b[0m \u001b[38;5;28;43msorted\u001b[39;49m\u001b[43m(\u001b[49m\u001b[43mc\u001b[49m\u001b[43m)\u001b[49m\n",
      "\u001b[0;31mTypeError\u001b[0m: '<' not supported between instances of 'str' and 'int'"
     ]
    }
   ],
   "source": [
    "sorted(c)"
   ]
  },
  {
   "cell_type": "code",
   "execution_count": 20,
   "id": "d211756e-2287-43ba-827d-fca9d263c06f",
   "metadata": {},
   "outputs": [
    {
     "data": {
      "text/plain": [
       "False"
      ]
     },
     "execution_count": 20,
     "metadata": {},
     "output_type": "execute_result"
    }
   ],
   "source": [
    "isinstance(c,str)"
   ]
  },
  {
   "cell_type": "code",
   "execution_count": 24,
   "id": "6b447864-295a-4610-9488-eef2e0e3a8b1",
   "metadata": {},
   "outputs": [],
   "source": [
    "numbers=[]\n",
    "strings=[]\n",
    "\n",
    "for x in c:\n",
    "    if isinstance(x, str):\n",
    "        strings.append(x)\n",
    "    if isinstance(x, (int,float)):\n",
    "        numbers.append(x)"
   ]
  },
  {
   "cell_type": "code",
   "execution_count": 25,
   "id": "e992b0c7-b265-42ee-aaaf-c306f9c6011f",
   "metadata": {},
   "outputs": [],
   "source": [
    "numbers.sort()\n",
    "strings.sort()"
   ]
  },
  {
   "cell_type": "code",
   "execution_count": 26,
   "id": "6935b718-523e-42d6-ae45-71e9067ea099",
   "metadata": {},
   "outputs": [
    {
     "data": {
      "text/plain": [
       "['A', 'B', 'C', 0.123, 1, 2, 3.14, 3.333, 4]"
      ]
     },
     "execution_count": 26,
     "metadata": {},
     "output_type": "execute_result"
    }
   ],
   "source": [
    "strings + numbers"
   ]
  },
  {
   "cell_type": "code",
   "execution_count": null,
   "id": "4f98484f-40c0-4596-9fc7-e4ad40ec8db3",
   "metadata": {},
   "outputs": [],
   "source": []
  }
 ],
 "metadata": {
  "kernelspec": {
   "display_name": "Python 3 (ipykernel)",
   "language": "python",
   "name": "python3"
  },
  "language_info": {
   "codemirror_mode": {
    "name": "ipython",
    "version": 3
   },
   "file_extension": ".py",
   "mimetype": "text/x-python",
   "name": "python",
   "nbconvert_exporter": "python",
   "pygments_lexer": "ipython3",
   "version": "3.10.12"
  }
 },
 "nbformat": 4,
 "nbformat_minor": 5
}
