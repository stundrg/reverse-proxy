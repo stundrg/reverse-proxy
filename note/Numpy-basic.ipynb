{
 "cells": [
  {
   "cell_type": "code",
   "execution_count": 50,
   "id": "1fbec2ec-1b7f-4948-b5ae-a08a2ce75b49",
   "metadata": {},
   "outputs": [],
   "source": [
    "import numpy as np"
   ]
  },
  {
   "cell_type": "code",
   "execution_count": 5,
   "id": "40a9fb5f-9980-48aa-a458-7bf75d85d58f",
   "metadata": {},
   "outputs": [],
   "source": [
    "arr = np.array([1,2,3,4,5])"
   ]
  },
  {
   "cell_type": "code",
   "execution_count": 6,
   "id": "cad7079d-d1fe-4a59-923d-bd737984ffc3",
   "metadata": {},
   "outputs": [
    {
     "data": {
      "text/plain": [
       "numpy.ndarray"
      ]
     },
     "execution_count": 6,
     "metadata": {},
     "output_type": "execute_result"
    }
   ],
   "source": [
    "type(arr)"
   ]
  },
  {
   "cell_type": "code",
   "execution_count": 7,
   "id": "a0d7baef-6a6e-4ce8-a9b0-16e0c50b7489",
   "metadata": {},
   "outputs": [
    {
     "data": {
      "text/plain": [
       "[1, 2, 3, 4, 5]"
      ]
     },
     "execution_count": 7,
     "metadata": {},
     "output_type": "execute_result"
    }
   ],
   "source": [
    "arr.tolist()"
   ]
  },
  {
   "cell_type": "code",
   "execution_count": 9,
   "id": "9620bd9e-6a76-4110-9953-830026735586",
   "metadata": {},
   "outputs": [
    {
     "data": {
      "text/plain": [
       "[np.int64(1), np.int64(2), np.int64(3), np.int64(4), np.int64(5)]"
      ]
     },
     "execution_count": 9,
     "metadata": {},
     "output_type": "execute_result"
    }
   ],
   "source": [
    "list(arr)"
   ]
  },
  {
   "cell_type": "code",
   "execution_count": 23,
   "id": "2d58e538-1107-4b4c-bbe4-f004ca24df67",
   "metadata": {},
   "outputs": [],
   "source": [
    "matrix = np.array([[1,2,3],[4,5,6],[7,8,9],[10,11,12]])"
   ]
  },
  {
   "cell_type": "code",
   "execution_count": 24,
   "id": "472d478b-86ff-47db-81d7-173efdb2ad5e",
   "metadata": {},
   "outputs": [
    {
     "data": {
      "text/plain": [
       "numpy.ndarray"
      ]
     },
     "execution_count": 24,
     "metadata": {},
     "output_type": "execute_result"
    }
   ],
   "source": [
    "type(matrix)"
   ]
  },
  {
   "cell_type": "code",
   "execution_count": 26,
   "id": "1bc04fd7-fca8-46c1-86a8-8fe48d3e8d06",
   "metadata": {},
   "outputs": [
    {
     "data": {
      "text/plain": [
       "(4, 3)"
      ]
     },
     "execution_count": 26,
     "metadata": {},
     "output_type": "execute_result"
    }
   ],
   "source": [
    "matrix.shape"
   ]
  },
  {
   "cell_type": "code",
   "execution_count": 27,
   "id": "6de01926-b6cd-466e-8cc4-5b2524f4040f",
   "metadata": {},
   "outputs": [
    {
     "data": {
      "text/plain": [
       "12"
      ]
     },
     "execution_count": 27,
     "metadata": {},
     "output_type": "execute_result"
    }
   ],
   "source": [
    "matrix.size"
   ]
  },
  {
   "cell_type": "code",
   "execution_count": 28,
   "id": "27c9e9f1-3ad8-4d2c-8a2d-b4b0f1b8fcb8",
   "metadata": {},
   "outputs": [
    {
     "data": {
      "text/plain": [
       "np.int64(1)"
      ]
     },
     "execution_count": 28,
     "metadata": {},
     "output_type": "execute_result"
    }
   ],
   "source": [
    "matrix[0,0]"
   ]
  },
  {
   "cell_type": "code",
   "execution_count": 29,
   "id": "1932386e-3b14-479e-8238-014fed2ad3f9",
   "metadata": {},
   "outputs": [
    {
     "data": {
      "text/plain": [
       "np.int64(1)"
      ]
     },
     "execution_count": 29,
     "metadata": {},
     "output_type": "execute_result"
    }
   ],
   "source": [
    "np.int64(1)"
   ]
  },
  {
   "cell_type": "code",
   "execution_count": 30,
   "id": "bea0bfc6-76de-4344-a2e9-a6a608254373",
   "metadata": {},
   "outputs": [
    {
     "data": {
      "text/plain": [
       "1"
      ]
     },
     "execution_count": 30,
     "metadata": {},
     "output_type": "execute_result"
    }
   ],
   "source": [
    "matrix[0,0].item()"
   ]
  },
  {
   "cell_type": "code",
   "execution_count": 32,
   "id": "57da2cc8-ef65-41da-9bfa-e7f1260a2bea",
   "metadata": {},
   "outputs": [],
   "source": [
    "aa =np.array([1,\"a\"])"
   ]
  },
  {
   "cell_type": "code",
   "execution_count": 34,
   "id": "0a584133-3f1a-472d-973e-8a29a422a2ca",
   "metadata": {},
   "outputs": [
    {
     "data": {
      "text/plain": [
       "np.str_('1')"
      ]
     },
     "execution_count": 34,
     "metadata": {},
     "output_type": "execute_result"
    }
   ],
   "source": [
    "aa[0]"
   ]
  },
  {
   "cell_type": "code",
   "execution_count": 35,
   "id": "eaa38201-9cab-49ad-9a21-0d80c3054a2e",
   "metadata": {},
   "outputs": [
    {
     "data": {
      "text/plain": [
       "np.str_('a')"
      ]
     },
     "execution_count": 35,
     "metadata": {},
     "output_type": "execute_result"
    }
   ],
   "source": [
    "aa[1]"
   ]
  },
  {
   "cell_type": "code",
   "execution_count": 36,
   "id": "8c00961d-a0e8-4f1a-a496-db54e5ce986a",
   "metadata": {},
   "outputs": [],
   "source": [
    "행, 열 = matrix.shape"
   ]
  },
  {
   "cell_type": "code",
   "execution_count": 38,
   "id": "83c6e5c5-26c8-4e08-a570-8958b6795fa4",
   "metadata": {},
   "outputs": [
    {
     "data": {
      "text/plain": [
       "4"
      ]
     },
     "execution_count": 38,
     "metadata": {},
     "output_type": "execute_result"
    }
   ],
   "source": [
    "행"
   ]
  },
  {
   "cell_type": "code",
   "execution_count": 39,
   "id": "eb51bfa1-2a71-4044-9c87-278bcab67dba",
   "metadata": {},
   "outputs": [
    {
     "data": {
      "text/plain": [
       "3"
      ]
     },
     "execution_count": 39,
     "metadata": {},
     "output_type": "execute_result"
    }
   ],
   "source": [
    "열"
   ]
  },
  {
   "cell_type": "code",
   "execution_count": 40,
   "id": "cbcead55-a647-49c4-8cdb-ac5239de9057",
   "metadata": {},
   "outputs": [
    {
     "data": {
      "text/plain": [
       "2"
      ]
     },
     "execution_count": 40,
     "metadata": {},
     "output_type": "execute_result"
    }
   ],
   "source": [
    "matrix.ndim"
   ]
  },
  {
   "cell_type": "code",
   "execution_count": 49,
   "id": "405654bd-a371-4e90-b540-eeea3d75b115",
   "metadata": {},
   "outputs": [],
   "source": [
    "arr_zeros = np.ones(5, dtype = int)"
   ]
  },
  {
   "cell_type": "code",
   "execution_count": 50,
   "id": "eb36ced7-5bdb-4f18-a9db-1bc86d4029f4",
   "metadata": {},
   "outputs": [
    {
     "data": {
      "text/plain": [
       "array([1, 1, 1, 1, 1])"
      ]
     },
     "execution_count": 50,
     "metadata": {},
     "output_type": "execute_result"
    }
   ],
   "source": [
    "arr_zeros"
   ]
  },
  {
   "cell_type": "code",
   "execution_count": 44,
   "id": "856487b2-8cfb-4376-9a17-f07588a3b6f9",
   "metadata": {},
   "outputs": [
    {
     "data": {
      "text/plain": [
       "dtype('float64')"
      ]
     },
     "execution_count": 44,
     "metadata": {},
     "output_type": "execute_result"
    }
   ],
   "source": [
    "arr_zeros.dtype"
   ]
  },
  {
   "cell_type": "code",
   "execution_count": 45,
   "id": "be5a9a0e-b797-4588-ad0f-9f8643d12c7c",
   "metadata": {},
   "outputs": [
    {
     "data": {
      "text/plain": [
       "[0, 0, 0, 0, 0]"
      ]
     },
     "execution_count": 45,
     "metadata": {},
     "output_type": "execute_result"
    }
   ],
   "source": [
    "[0]* 5"
   ]
  },
  {
   "cell_type": "code",
   "execution_count": 51,
   "id": "562ef715-fa49-45c2-96c4-8f70a542a997",
   "metadata": {},
   "outputs": [
    {
     "data": {
      "text/plain": [
       "array([7, 7, 7, 7, 7])"
      ]
     },
     "execution_count": 51,
     "metadata": {},
     "output_type": "execute_result"
    }
   ],
   "source": [
    "arr_full = np.full(5,7)\n",
    "arr_full"
   ]
  },
  {
   "cell_type": "code",
   "execution_count": 53,
   "id": "898a05c4-e40a-4fe3-a510-046fd7d18cb8",
   "metadata": {},
   "outputs": [],
   "source": [
    "p17 = arr_zeros + arr_full"
   ]
  },
  {
   "cell_type": "code",
   "execution_count": 54,
   "id": "ffa75ded-5caa-434e-8f4e-9478c825127c",
   "metadata": {},
   "outputs": [
    {
     "data": {
      "text/plain": [
       "array([8, 8, 8, 8, 8])"
      ]
     },
     "execution_count": 54,
     "metadata": {},
     "output_type": "execute_result"
    }
   ],
   "source": [
    "p17"
   ]
  },
  {
   "cell_type": "code",
   "execution_count": 55,
   "id": "f96483ff-4665-42e8-86d8-d2a574ebfe0c",
   "metadata": {},
   "outputs": [
    {
     "data": {
      "text/plain": [
       "array([8, 8, 8, 8, 8])"
      ]
     },
     "execution_count": 55,
     "metadata": {},
     "output_type": "execute_result"
    }
   ],
   "source": [
    "p17 * arr_zeros"
   ]
  },
  {
   "cell_type": "code",
   "execution_count": 60,
   "id": "9c1b6d4a-8c12-4706-8564-d3540971e761",
   "metadata": {},
   "outputs": [
    {
     "data": {
      "text/plain": [
       "array([ 0,  2,  5,  7, 10])"
      ]
     },
     "execution_count": 60,
     "metadata": {},
     "output_type": "execute_result"
    }
   ],
   "source": [
    "np.linspace(0, 10, 5, dtype=int)"
   ]
  },
  {
   "cell_type": "markdown",
   "id": "15b6c0d1-aeb8-403a-ba79-54d81aea3b48",
   "metadata": {},
   "source": [
    "## numpy"
   ]
  },
  {
   "cell_type": "code",
   "execution_count": 2,
   "id": "0a57796f-ccd8-4626-b255-ea891184bd4b",
   "metadata": {},
   "outputs": [],
   "source": [
    "import matplotlib.pyplot as plt"
   ]
  },
  {
   "cell_type": "code",
   "execution_count": 62,
   "id": "f02d9127-5999-47d3-b638-4ac41eeb9105",
   "metadata": {},
   "outputs": [],
   "source": [
    "mean = 0 # 평균\n",
    "std_dev = 1 # 표준편차\n",
    "size = 1_000_000\n",
    "\n",
    "\n",
    "data = np.random.normal(loc = mean, scale = std_dev,size = size)"
   ]
  },
  {
   "cell_type": "markdown",
   "id": "90bd6629-7cf0-4c4b-ae04-25135f8c7eb3",
   "metadata": {},
   "source": [
    "## 정규분포"
   ]
  },
  {
   "cell_type": "code",
   "execution_count": 73,
   "id": "9b9dd001-361a-4f2b-9e55-519ff016bc40",
   "metadata": {},
   "outputs": [
    {
     "data": {
      "image/png": "[encoded data removed]",
      "text/plain": [
       "<Figure size 640x480 with 1 Axes>"
      ]
     },
     "metadata": {},
     "output_type": "display_data"
    }
   ],
   "source": [
    "plt.hist(data, bins = 300, edgecolor='red', alpha=0.7)\n",
    "plt.title(\"N D\")\n",
    "plt.xlabel(\"V\")\n",
    "plt.show()"
   ]
  },
  {
   "cell_type": "code",
   "execution_count": 144,
   "id": "1fc0a937-65b9-40eb-826a-01d7e0c2af18",
   "metadata": {},
   "outputs": [
    {
     "data": {
      "image/png": "[encoded data removed]",
      "text/plain": [
       "<Figure size 640x480 with 1 Axes>"
      ]
     },
     "metadata": {},
     "output_type": "display_data"
    }
   ],
   "source": [
    "# 균등분포 - 0 ~ 10사이에 균등 분포를 갖는 1000개의 샘플\n",
    "data = np.random.uniform(0, 10, 1000000)\n",
    "plt.hist(data, bins = 100, edgecolor='black', alpha=0.7)\n",
    "plt.show()"
   ]
  },
  {
   "cell_type": "markdown",
   "id": "971801eb-e727-43ca-b321-821a8f289a37",
   "metadata": {},
   "source": [
    "## 포아송분포"
   ]
  },
  {
   "cell_type": "code",
   "execution_count": 151,
   "id": "f2c69920-49af-4acc-ae60-85e88c934f7a",
   "metadata": {},
   "outputs": [
    {
     "data": {
      "image/png": "[encoded data removed]",
      "text/plain": [
       "<Figure size 640x480 with 1 Axes>"
      ]
     },
     "metadata": {},
     "output_type": "display_data"
    }
   ],
   "source": [
    "data = np.random.poisson(3,1000)\n",
    "plt.hist(data, bins = 10, edgecolor='black', alpha=0.7)\n",
    "plt.ylabel('frequency')\n",
    "plt.show()"
   ]
  },
  {
   "cell_type": "code",
   "execution_count": 171,
   "id": "2017ddc0-3e5e-4272-b5be-e67b73e2c70c",
   "metadata": {},
   "outputs": [
    {
     "data": {
      "image/png": "[encoded data removed]",
      "text/plain": [
       "<Figure size 640x480 with 1 Axes>"
      ]
     },
     "metadata": {},
     "output_type": "display_data"
    }
   ],
   "source": [
    "data = np.random.randint(0,10,100)\n",
    "plt.hist(data, bins = 10, edgecolor='black', alpha=0.7)\n",
    "plt.show()"
   ]
  },
  {
   "cell_type": "code",
   "execution_count": 216,
   "id": "0c5ab441-0c9b-4119-af24-2b0cf2b37e58",
   "metadata": {},
   "outputs": [
    {
     "data": {
      "text/plain": [
       "array([3, 4, 1, 7, 9])"
      ]
     },
     "execution_count": 216,
     "metadata": {},
     "output_type": "execute_result"
    }
   ],
   "source": [
    "# replace =False => import random-> random.sample\n",
    "data = np.random.choice([1,2,3,4,5,6,7,8,9,0],size = 5, replace =False)\n",
    "data"
   ]
  },
  {
   "cell_type": "code",
   "execution_count": 218,
   "id": "9b08d025-38c8-4284-98eb-67018ef8f574",
   "metadata": {},
   "outputs": [
    {
     "name": "stdout",
     "output_type": "stream",
     "text": [
      "(4,)\n",
      "1\n",
      "4\n",
      "int64\n"
     ]
    }
   ],
   "source": [
    "arr = np.array([1,2,3,4])\n",
    "print(arr.shape) # 배열의 형태\n",
    "print(arr.ndim) # 배열의 차원\n",
    "print(arr.size) # 배열의 요소수\n",
    "print(arr.dtype) # 배열의 타입 - 모두 같음"
   ]
  },
  {
   "cell_type": "code",
   "execution_count": 219,
   "id": "6465c5f1-e934-4808-978d-30403514b249",
   "metadata": {},
   "outputs": [
    {
     "data": {
      "text/plain": [
       "array([101, 102, 103, 104])"
      ]
     },
     "execution_count": 219,
     "metadata": {},
     "output_type": "execute_result"
    }
   ],
   "source": [
    "arr + 100"
   ]
  },
  {
   "cell_type": "code",
   "execution_count": 226,
   "id": "12b82c8b-d07c-4310-8470-e4aa28624986",
   "metadata": {},
   "outputs": [
    {
     "name": "stdout",
     "output_type": "stream",
     "text": [
      "[1 2 3 4]\n",
      "[[1 2]\n",
      " [3 4]]\n",
      "[1 2 3 4]\n"
     ]
    }
   ],
   "source": [
    "arr = np.array([1,2,3,4])\n",
    "arr_2d = arr.reshape(2,2)\n",
    "arr_f = arr_2d.flatten()\n",
    "\n",
    "print(arr)\n",
    "print(arr_2d)\n",
    "print(arr_f)"
   ]
  },
  {
   "cell_type": "code",
   "execution_count": 227,
   "id": "0702b91d-52ab-4700-97a3-869d53e0b726",
   "metadata": {},
   "outputs": [
    {
     "data": {
      "text/plain": [
       "array([2, 4])"
      ]
     },
     "execution_count": 227,
     "metadata": {},
     "output_type": "execute_result"
    }
   ],
   "source": [
    "arr_2d[:,1]"
   ]
  },
  {
   "cell_type": "code",
   "execution_count": 233,
   "id": "ffae1b5a-0148-4633-bd14-8d7d3ab5f9d0",
   "metadata": {},
   "outputs": [
    {
     "name": "stdout",
     "output_type": "stream",
     "text": [
      "SUM : 10\n",
      "AVG : 2.5\n",
      "표준편차 : 1.118033988749895\n",
      "표준편차 : 1.12\n"
     ]
    }
   ],
   "source": [
    "print(\"SUM :\", np.sum(arr))\n",
    "print(\"AVG :\", np.mean(arr))\n",
    "print(\"표준편차 :\", np.std(arr))\n",
    "print(\"표준편차 :\", f'{np.std(arr):.2f}')"
   ]
  },
  {
   "cell_type": "code",
   "execution_count": 52,
   "id": "e7e4e45c-0cc0-41fc-899b-ba577b3c8244",
   "metadata": {},
   "outputs": [
    {
     "data": {
      "text/plain": [
       "2.5"
      ]
     },
     "execution_count": 52,
     "metadata": {},
     "output_type": "execute_result"
    }
   ],
   "source": [
    "a = [1,2,3,4]\n",
    "sum(a) / len(a)"
   ]
  },
  {
   "cell_type": "code",
   "execution_count": 53,
   "id": "af313e34-a8aa-49a7-ae03-fb35cbfcf95f",
   "metadata": {
    "scrolled": true
   },
   "outputs": [
    {
     "data": {
      "text/plain": [
       "1.118033988749895"
      ]
     },
     "execution_count": 53,
     "metadata": {},
     "output_type": "execute_result"
    }
   ],
   "source": [
    "import math\n",
    "# 평균 계산\n",
    "avg = sum(a) / len(a)\n",
    "\n",
    "# 분산 계산\n",
    "total_sum = 0\n",
    "sq_diffs = []\n",
    "for x in a:\n",
    "    diff = x - avg\n",
    "    sq_diff = diff ** 2\n",
    "    total_sum = total_sum + sq_diff\n",
    "    sq_diffs.append(sq_diff)\n",
    "\n",
    "v = total_sum / len(a)  # 분산\n",
    "\n",
    "std_dev = math.sqrt(v)\n",
    "    \n",
    "# 그 평균을 제곱근을 취함\n",
    "math.sqrt(v)"
   ]
  },
  {
   "cell_type": "code",
   "execution_count": null,
   "id": "52dde4eb-761d-4484-a365-3c7f679d5f37",
   "metadata": {},
   "outputs": [],
   "source": [
    "import random\n",
    "import time\n",
    "\n",
    "def gen_r_array_randint(N):\n",
    "    a = random.randint(0, 101, size=N)\n",
    "    b = random.randint(0, 101, size=N)\n",
    "    return a,b\n",
    "start_time = time.time()\n",
    "\n",
    "a,b = gen_r_array_randint(1_000_000)\n",
    "end_time = time.time()\n",
    "print(f'{end_time-start_time}')"
   ]
  },
  {
   "cell_type": "code",
   "execution_count": 3,
   "id": "0ca0484d-6aa3-4e56-843b-ca881edb7d26",
   "metadata": {},
   "outputs": [
    {
     "name": "stdout",
     "output_type": "stream",
     "text": [
      "0.19748234748840332\n"
     ]
    }
   ],
   "source": [
    "import random\n",
    "import time\n",
    "\n",
    "def gen_r_array_choices(N):\n",
    "    a = random.choices(range(101), k=N)\n",
    "    b = random.choices(range(101), k=N)\n",
    "    return a,b\n",
    "start_time = time.time()\n",
    "\n",
    "a,b = gen_r_array_choices(1_000_000)\n",
    "end_time = time.time()\n",
    "print(f'{end_time-start_time}')"
   ]
  },
  {
   "cell_type": "code",
   "execution_count": 4,
   "id": "80f33a62-c1a3-4c63-b80b-52ee9ebe6ddb",
   "metadata": {},
   "outputs": [
    {
     "name": "stdout",
     "output_type": "stream",
     "text": [
      "1.9003758430480957\n"
     ]
    }
   ],
   "source": [
    "import time\n",
    "import numpy as np\n",
    "\n",
    "def gen_r_array_choices_numpy(N):\n",
    "    a = np.random.choice(range(101), size=N)\n",
    "    b = np.random.choice(range(101), size=N)\n",
    "    return a,b\n",
    "start_time = time.time()\n",
    "\n",
    "a,b = gen_r_array_choices(1_0000_000)\n",
    "end_time = time.time()\n",
    "print(f'{end_time-start_time}')"
   ]
  },
  {
   "cell_type": "code",
   "execution_count": 5,
   "id": "f1a94433-41e9-41b2-b500-051c3ef6eb93",
   "metadata": {},
   "outputs": [
    {
     "name": "stdout",
     "output_type": "stream",
     "text": [
      "3.426004409790039\n"
     ]
    }
   ],
   "source": [
    "import time\n",
    "import numpy as np\n",
    "\n",
    "def gen_r_array_randint_numpy(N):\n",
    "    a = np.random.randint(range(101), size=N)\n",
    "    b = np.random.randint(range(101), size=N)\n",
    "    return a,b\n",
    "start_time = time.time()\n",
    "\n",
    "a,b = gen_r_array_choices(1_0000_000)\n",
    "end_time = time.time()\n",
    "print(f'{end_time-start_time}')"
   ]
  },
  {
   "cell_type": "code",
   "execution_count": 7,
   "id": "a8a8f903-de94-4f84-8397-fe40211d57bd",
   "metadata": {},
   "outputs": [
    {
     "ename": "ValueError",
     "evalue": "high <= 0",
     "output_type": "error",
     "traceback": [
      "\u001b[0;31m---------------------------------------------------------------------------\u001b[0m",
      "\u001b[0;31mValueError\u001b[0m                                Traceback (most recent call last)",
      "Cell \u001b[0;32mIn[7], line 16\u001b[0m\n\u001b[1;32m     14\u001b[0m python_times \u001b[38;5;241m=\u001b[39m [measure_time(gen_r_array_choices, size) \u001b[38;5;28;01mfor\u001b[39;00m size \u001b[38;5;129;01min\u001b[39;00m sizes]\n\u001b[1;32m     15\u001b[0m numpy_choices_times \u001b[38;5;241m=\u001b[39m [measure_time(gen_r_array_choices_numpy, size) \u001b[38;5;28;01mfor\u001b[39;00m size \u001b[38;5;129;01min\u001b[39;00m sizes]\n\u001b[0;32m---> 16\u001b[0m numpy_randint_times \u001b[38;5;241m=\u001b[39m [measure_time(gen_r_array_randint_numpy, size) \u001b[38;5;28;01mfor\u001b[39;00m size \u001b[38;5;129;01min\u001b[39;00m sizes]\n\u001b[1;32m     18\u001b[0m \u001b[38;5;66;03m# 그래프 그리기\u001b[39;00m\n\u001b[1;32m     19\u001b[0m plt\u001b[38;5;241m.\u001b[39mfigure(figsize\u001b[38;5;241m=\u001b[39m(\u001b[38;5;241m10\u001b[39m, \u001b[38;5;241m5\u001b[39m))\n",
      "Cell \u001b[0;32mIn[7], line 16\u001b[0m, in \u001b[0;36m<listcomp>\u001b[0;34m(.0)\u001b[0m\n\u001b[1;32m     14\u001b[0m python_times \u001b[38;5;241m=\u001b[39m [measure_time(gen_r_array_choices, size) \u001b[38;5;28;01mfor\u001b[39;00m size \u001b[38;5;129;01min\u001b[39;00m sizes]\n\u001b[1;32m     15\u001b[0m numpy_choices_times \u001b[38;5;241m=\u001b[39m [measure_time(gen_r_array_choices_numpy, size) \u001b[38;5;28;01mfor\u001b[39;00m size \u001b[38;5;129;01min\u001b[39;00m sizes]\n\u001b[0;32m---> 16\u001b[0m numpy_randint_times \u001b[38;5;241m=\u001b[39m [\u001b[43mmeasure_time\u001b[49m\u001b[43m(\u001b[49m\u001b[43mgen_r_array_randint_numpy\u001b[49m\u001b[43m,\u001b[49m\u001b[43m \u001b[49m\u001b[43msize\u001b[49m\u001b[43m)\u001b[49m \u001b[38;5;28;01mfor\u001b[39;00m size \u001b[38;5;129;01min\u001b[39;00m sizes]\n\u001b[1;32m     18\u001b[0m \u001b[38;5;66;03m# 그래프 그리기\u001b[39;00m\n\u001b[1;32m     19\u001b[0m plt\u001b[38;5;241m.\u001b[39mfigure(figsize\u001b[38;5;241m=\u001b[39m(\u001b[38;5;241m10\u001b[39m, \u001b[38;5;241m5\u001b[39m))\n",
      "Cell \u001b[0;32mIn[7], line 5\u001b[0m, in \u001b[0;36mmeasure_time\u001b[0;34m(func, N, iterations)\u001b[0m\n\u001b[1;32m      3\u001b[0m \u001b[38;5;28;01mfor\u001b[39;00m _ \u001b[38;5;129;01min\u001b[39;00m \u001b[38;5;28mrange\u001b[39m(iterations):\n\u001b[1;32m      4\u001b[0m     start_time \u001b[38;5;241m=\u001b[39m time\u001b[38;5;241m.\u001b[39mperf_counter()\n\u001b[0;32m----> 5\u001b[0m     \u001b[43mfunc\u001b[49m\u001b[43m(\u001b[49m\u001b[43mN\u001b[49m\u001b[43m)\u001b[49m\n\u001b[1;32m      6\u001b[0m     elapsed \u001b[38;5;241m=\u001b[39m time\u001b[38;5;241m.\u001b[39mperf_counter() \u001b[38;5;241m-\u001b[39m start_time\n\u001b[1;32m      7\u001b[0m     times\u001b[38;5;241m.\u001b[39mappend(elapsed)\n",
      "Cell \u001b[0;32mIn[5], line 5\u001b[0m, in \u001b[0;36mgen_r_array_randint_numpy\u001b[0;34m(N)\u001b[0m\n\u001b[1;32m      4\u001b[0m \u001b[38;5;28;01mdef\u001b[39;00m\u001b[38;5;250m \u001b[39m\u001b[38;5;21mgen_r_array_randint_numpy\u001b[39m(N):\n\u001b[0;32m----> 5\u001b[0m     a \u001b[38;5;241m=\u001b[39m \u001b[43mnp\u001b[49m\u001b[38;5;241;43m.\u001b[39;49m\u001b[43mrandom\u001b[49m\u001b[38;5;241;43m.\u001b[39;49m\u001b[43mrandint\u001b[49m\u001b[43m(\u001b[49m\u001b[38;5;28;43mrange\u001b[39;49m\u001b[43m(\u001b[49m\u001b[38;5;241;43m101\u001b[39;49m\u001b[43m)\u001b[49m\u001b[43m,\u001b[49m\u001b[43m \u001b[49m\u001b[43msize\u001b[49m\u001b[38;5;241;43m=\u001b[39;49m\u001b[43mN\u001b[49m\u001b[43m)\u001b[49m\n\u001b[1;32m      6\u001b[0m     b \u001b[38;5;241m=\u001b[39m np\u001b[38;5;241m.\u001b[39mrandom\u001b[38;5;241m.\u001b[39mrandint(\u001b[38;5;28mrange\u001b[39m(\u001b[38;5;241m101\u001b[39m), size\u001b[38;5;241m=\u001b[39mN)\n\u001b[1;32m      7\u001b[0m     \u001b[38;5;28;01mreturn\u001b[39;00m a,b\n",
      "File \u001b[0;32mnumpy/random/mtrand.pyx:796\u001b[0m, in \u001b[0;36mnumpy.random.mtrand.RandomState.randint\u001b[0;34m()\u001b[0m\n",
      "File \u001b[0;32mnumpy/random/_bounded_integers.pyx:1349\u001b[0m, in \u001b[0;36mnumpy.random._bounded_integers._rand_int64\u001b[0;34m()\u001b[0m\n",
      "File \u001b[0;32mnumpy/random/_bounded_integers.pyx:776\u001b[0m, in \u001b[0;36mnumpy.random._bounded_integers._rand_int64_broadcast\u001b[0;34m()\u001b[0m\n",
      "\u001b[0;31mValueError\u001b[0m: high <= 0"
     ]
    }
   ],
   "source": [
    "def measure_time(func, N, iterations=10):\n",
    "    times = []\n",
    "    for _ in range(iterations):\n",
    "        start_time = time.perf_counter()\n",
    "        func(N)\n",
    "        elapsed = time.perf_counter() - start_time\n",
    "        times.append(elapsed)\n",
    "\n",
    "    return max(0, sum(times) / len(times))  # 평균값 반환\n",
    "\n",
    "sizes = np.linspace(1, 1_000_000, 100, dtype=int)  \n",
    "\n",
    "# Python과 NumPy 실행 시간 저장\n",
    "python_times = [measure_time(gen_r_array_choices, size) for size in sizes]\n",
    "numpy_choices_times = [measure_time(gen_r_array_choices_numpy, size) for size in sizes]\n",
    "numpy_randint_times = [measure_time(gen_r_array_randint_numpy, size) for size in sizes]\n",
    "\n",
    "# 그래프 그리기\n",
    "plt.figure(figsize=(10, 5))\n",
    "plt.plot(sizes, python_times, label='Python List (random.choices)', linestyle='-')\n",
    "plt.plot(sizes, numpy_choice_times, label='NumPy (np.random.choices)', linestyle='-')\n",
    "plt.plot(sizes, numpy_randint_times, label = 'Numpy (np.random.randint)',linestyle='-')\n",
    "\n",
    "plt.xlabel('Array Size')\n",
    "plt.ylabel('Time (seconds)')\n",
    "plt.title('Python List vs NumPy_choice vs Numpy_randint')\n",
    "plt.legend()\n",
    "plt.grid(True)\n",
    "plt.show()"
   ]
  },
  {
   "cell_type": "code",
   "execution_count": 8,
   "id": "e8bc45ab-7cc8-4657-a47b-e54f33425c9d",
   "metadata": {},
   "outputs": [
    {
     "data": {
      "image/png": "[encoded data removed]",
      "text/plain": [
       "<Figure size 640x480 with 1 Axes>"
      ]
     },
     "metadata": {},
     "output_type": "display_data"
    }
   ],
   "source": [
    "sizes = np.linspace(0, 1_000_000, 100, dtype=int)\n",
    "python_time = []\n",
    "numpy_time = []\n",
    "\n",
    "for size in sizes:\n",
    "    start_time = time.time()\n",
    "    gen_r_array_choices(size)\n",
    "    python_time.append(time.time() - start_time)\n",
    "\n",
    "    start_time = time.time()\n",
    "    gen_r_array_choices_numpy(size)\n",
    "    numpy_time.append(time.time() - start_time)\n",
    "\n",
    "plt.plot(sizes, python_time, label=\"Python\")\n",
    "plt.plot(sizes, numpy_time, label=\"Numpy\")\n",
    "plt.xlabel(\"Array size\")\n",
    "plt.ylabel(\"Excution time (seconds)\")\n",
    "plt.title(\"Python vs Numpy\")\n",
    "plt.legend()\n",
    "plt.grid(True)\n",
    "plt.show()"
   ]
  },
  {
   "cell_type": "code",
   "execution_count": null,
   "id": "9056cc98-e98d-4ecc-a416-ab4ad95d5686",
   "metadata": {},
   "outputs": [],
   "source": [
    "import numpy as np\n",
    "import random\n",
    "import time\n",
    "import matplotlib.pyplot as plt\n",
    "\n",
    "# NumPy 기반 함수\n",
    "def gen_r_array_choices_numpy(N):\n",
    "    a = np.random.choice(range(101), size=N)\n",
    "    b = np.random.choice(range(101), size=N)\n",
    "    return a, b\n",
    "\n",
    "# Python random 기반 함수\n",
    "def gen_r_array_choices(N):\n",
    "    a = random.choices(range(101), k=N)\n",
    "    b = random.choices(range(101), k=N)\n",
    "    return a, b\n",
    "\n",
    "# 고차 함수: 실행 시간 측정\n",
    "def measure_time(func, N):\n",
    "    result = 0\n",
    "    for _ in range(10):\n",
    "        start = time.time()\n",
    "        func(N)\n",
    "        end = time.time()\n",
    "        result += (end - start)\n",
    "    return result / 10\n",
    "\n",
    "# 테스트할 N 값 생성 (1부터 1,000,000까지 100개 간격)\n",
    "N_values = np.linspace(1, 1_000_000, 100, dtype=int)\n",
    "\n",
    "numpy_times = []\n",
    "random_times = []\n",
    "# TODO 각 함수의 실행 시간 계산 위 배열에 추가\n",
    "for N in N_values:\n",
    "    numpy_times.append(measure_time(gen_r_array_choices_numpy, N))\n",
    "    random_times.append(measure_time(gen_r_array_choices, N))\n",
    "\n",
    "\n",
    "# 선그래프 그리기\n",
    "plt.figure(figsize=(10, 6)) # 차트 크기 -> 그래프의 가로 크기 10인치, 세로 크기 6인치\n",
    "plt.xlabel('Array Size') # x축 레이블\n",
    "plt.ylabel('Time') # y축 레이블\n",
    "plt.title('Performance : numpy VS random')\n",
    "plt.grid(True) # 그래프에 그리드 ON\n",
    "plt.plot(N_values, numpy_times, label='numpy', color='blue')\n",
    "plt.plot(N_values, random_times, label='random', color='red')\n",
    "plt.legend() # 범례를 추가\n",
    "plt.show()"
   ]
  },
  {
   "cell_type": "code",
   "execution_count": null,
   "id": "92764427-6b5c-44a0-af42-276b4ca00d57",
   "metadata": {},
   "outputs": [],
   "source": []
  }
 ],
 "metadata": {
  "kernelspec": {
   "display_name": "Python 3 (ipykernel)",
   "language": "python",
   "name": "python3"
  },
  "language_info": {
   "codemirror_mode": {
    "name": "ipython",
    "version": 3
   },
   "file_extension": ".py",
   "mimetype": "text/x-python",
   "name": "python",
   "nbconvert_exporter": "python",
   "pygments_lexer": "ipython3",
   "version": "3.10.12"
  }
 },
 "nbformat": 4,
 "nbformat_minor": 5
}
